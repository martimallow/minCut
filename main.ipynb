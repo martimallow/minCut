{
 "cells": [
  {
   "cell_type": "markdown",
   "metadata": {},
   "source": [
    "# Input \n",
    "A primeira linha da entrada contém dois inteiros separados por espaços, n e m, o número de vértices do\n",
    "grafo e o número de arestas entre eles. Seguem m linhas, cada uma com três inteiros, u i , v i e w i , indicando\n",
    "que existe uma aresta de peso w i entre os vértices v i e w i . Você deve considerar que nesse grafo não há\n",
    "arestas paralelas nem laços."
   ]
  },
  {
   "cell_type": "code",
   "execution_count": 5,
   "metadata": {},
   "outputs": [
    {
     "name": "stdout",
     "output_type": "stream",
     "text": [
      "vertices e arestas: 4 3\n",
      "u, v, w: 0 1 1\n",
      "u, v, w: 0 2 1\n",
      "u, v, w: 0 3 1\n"
     ]
    }
   ],
   "source": [
    "dim = []\n",
    "dim = input(\"vertices e arestas: \").split(\" \")\n",
    "n = int(dim[0]) #numero de vertices\n",
    "m = int(dim[1]) #numero de arestas\n",
    "\n",
    "grafo = []\n",
    "\n",
    "for x in range(n):\n",
    "    grafo.append([0] * (n))\n",
    "    \n",
    "for i in range(m):\n",
    "    arestas = input(\"u, v, w: \").split(\" \")\n",
    "    u = int( arestas[0] )\n",
    "    v = int( arestas[1] )\n",
    "    w = int( arestas[2] )\n",
    "    grafo[u][v] = w\n",
    "    grafo[v][u] = w \n",
    "#4 3\n",
    "#0 1 1\n",
    "#0 2 1\n",
    "#0 3 1"
   ]
  },
  {
   "cell_type": "code",
   "execution_count": 6,
   "metadata": {},
   "outputs": [
    {
     "name": "stdout",
     "output_type": "stream",
     "text": [
      "[0, 1, 1, 1]\n",
      "[1, 0, 0, 0]\n",
      "[1, 0, 0, 0]\n",
      "[1, 0, 0, 0]\n"
     ]
    }
   ],
   "source": [
    "def imprime_matriz(A):\n",
    "    for linha in A:\n",
    "        print(linha)\n",
    "\n",
    "def copia_matriz(A):\n",
    "    C = []\n",
    "    for linha in A:\n",
    "        copia = linha.copy()\n",
    "        C.append(copia)\n",
    "    return C\n",
    "\n",
    "residual = copia_matriz(grafo)\n",
    "\n",
    "imprime_matriz(grafo)"
   ]
  },
  {
   "cell_type": "code",
   "execution_count": 236,
   "metadata": {},
   "outputs": [],
   "source": []
  },
  {
   "cell_type": "markdown",
   "metadata": {},
   "source": [
    "\n",
    "# DFS"
   ]
  },
  {
   "cell_type": "code",
   "execution_count": 8,
   "metadata": {},
   "outputs": [],
   "source": [
    "s = 0\n",
    "t = 3\n",
    "def dfs(grafo, deondevem, s, t):\n",
    "    #Todos os vertices iniciam como não visitados\n",
    "    visitados = [False] * len(grafo[0])\n",
    "\n",
    "    #fila vazia\n",
    "    fila = [] \n",
    "\n",
    "    #marque o nó fonte como visitado\n",
    "    fila.append(s)\n",
    "    visitados[s] = True\n",
    "\n",
    "    #loop DFS\n",
    "    while fila:\n",
    "        #sai o primeiro da fila\n",
    "        u = fila.pop(0)\n",
    "\n",
    "        #encontra todos os vertices adjacentes a u\n",
    "        #se um dos vertices adjacentes ainda nao foi visitado\n",
    "        #marque ele como visitado e adicione na fila\n",
    "        for indice, peso in enumerate(grafo[u]):\n",
    "            if(visitados[indice] == False and peso > 0):\n",
    "                visitados[indice] = True\n",
    "                fila.append(indice)\n",
    "                deondevem[indice] = u\n",
    "    \n",
    "    if(visitados[t]):\n",
    "        return (True, visitados)\n",
    "    else:\n",
    "        return (False, visitados)\n"
   ]
  },
  {
   "cell_type": "code",
   "execution_count": null,
   "metadata": {},
   "outputs": [],
   "source": []
  },
  {
   "cell_type": "markdown",
   "metadata": {},
   "source": [
    "# Fluxo do Caminho Aumentador"
   ]
  },
  {
   "cell_type": "code",
   "execution_count": 9,
   "metadata": {},
   "outputs": [],
   "source": [
    "def path_flow(grafo, deondevem, s, t):\n",
    "\n",
    "#deondevem nos dá um caminho aumentador da fonte ao sorvedouro\n",
    "#vamos procurar a menor restrição desse caminho, esse será o fluxo do caminho ou sua capacidade residual (delta)\n",
    "#começando do sorvedouro\n",
    "    chegada = t\n",
    "    delta = float(\"Inf\") \n",
    "    while(chegada != s):\n",
    "        saida = deondevem[chegada]\n",
    "        #print(saida,chegada)\n",
    "        delta = min(delta, residual[saida][chegada])\n",
    "        chegada = saida \n",
    "    return delta"
   ]
  },
  {
   "cell_type": "code",
   "execution_count": null,
   "metadata": {},
   "outputs": [],
   "source": []
  },
  {
   "cell_type": "code",
   "execution_count": 10,
   "metadata": {},
   "outputs": [],
   "source": [
    "def envia_fluxo(residual, deondevem, fluxo_caminho, s, t):\n",
    "    chegada = t\n",
    "    while(chegada != s):\n",
    "        saida = deondevem[chegada]\n",
    "        residual[saida][chegada] -= fluxo_caminho\n",
    "        residual[chegada][saida] += fluxo_caminho\n",
    "        chegada = saida\n",
    "    return residual\n"
   ]
  },
  {
   "cell_type": "markdown",
   "metadata": {},
   "source": [
    "# Ford Fulkersson"
   ]
  },
  {
   "cell_type": "code",
   "execution_count": 24,
   "metadata": {},
   "outputs": [
    {
     "name": "stdout",
     "output_type": "stream",
     "text": [
      "o x:  0\n",
      "o x:  1\n",
      "o x:  2\n",
      "3\n",
      "0 1 2\n",
      "0\n"
     ]
    }
   ],
   "source": [
    "def ff(residual, s, t):\n",
    "    #guarda o caminho encontrado pelo DFS \n",
    "    deondevem = [-1] * len(residual)\n",
    "\n",
    "    #começa com fluxo - \n",
    "    fluxo_maximo = 0\n",
    "\n",
    "    #enquanto houver caminho aumementador no grado residual\n",
    "    while( dfs(residual, deondevem, s, t)[0] ):\n",
    "        \n",
    "        fluxo_caminho = path_flow(residual, deondevem, s, t)\n",
    "        \n",
    "        #adiciona o fluxo do caminho aumentador encontrado ao fluxo maximo\n",
    "        fluxo_maximo += fluxo_caminho\n",
    "\n",
    "        #envia delta unidades de fluxo pelo grafo\n",
    "        residual = envia_fluxo(residual, deondevem, fluxo_caminho, s, t)\n",
    "\n",
    "    return fluxo_maximo\n",
    "\n",
    "grafo = [[0, 1, 1, 1],\n",
    "            [1, 0, 0, 0],\n",
    "            [1, 0, 0, 0],\n",
    "            [1, 0, 0, 0]]\n",
    "fluxo_minimo = float(\"Inf\")\n",
    "t = 3\n",
    "corte = [-1] * 4\n",
    "visitados = [False] * 4\n",
    "for x in range(3):\n",
    "    print(\"o x: \", x)\n",
    "    residua = copia_matriz(grafo)\n",
    "    fluxo = ff(residual, x, t)\n",
    "    if(fluxo < fluxo_minimo):\n",
    "        visitados = dfs(residual, corte, x, t)[1]\n",
    "        fluxo_minimo = fluxo\n",
    "\n",
    "#Quantidade de vertices em S\n",
    "print(sum(visitados))\n",
    "\n",
    "#Indice dos vertices em S\n",
    "s = []\n",
    "for n in range(len(visitados)):\n",
    "    if(visitados[n]):\n",
    "        s.append( str(n) )\n",
    "print(' '.join(s))\n",
    "\n",
    "#Peso do corte    \n",
    "print(fluxo_minimo)"
   ]
  },
  {
   "cell_type": "code",
   "execution_count": 240,
   "metadata": {},
   "outputs": [],
   "source": [
    "#chegando = coluna\n",
    "#saindo = linha\n",
    "fudido = [ [0, 1, 1, 0, 10],\n",
    "            [1, 0, 10, 0, 0],\n",
    "            [1, 10, 0, 10, 1],\n",
    "            [0, 0, 10, 0, 1],\n",
    "            [10, 0, 1, 1, 0] ]\n",
    "\n",
    "segundo = [[0, 1, 1, 1],\n",
    "            [1, 0, 0, 0],\n",
    "            [1, 0, 0, 0],\n",
    "            [1, 0, 0, 0]]\n",
    "\n",
    "primeiro = [[0, 1, 1, 1],\n",
    "[1, 0, 1, 1],\n",
    "[1, 1, 0, 1],\n",
    "[1, 1, 1, 0]]"
   ]
  },
  {
   "cell_type": "code",
   "execution_count": null,
   "metadata": {},
   "outputs": [],
   "source": []
  },
  {
   "cell_type": "code",
   "execution_count": null,
   "metadata": {},
   "outputs": [],
   "source": []
  }
 ],
 "metadata": {
  "kernelspec": {
   "display_name": "Python 3",
   "language": "python",
   "name": "python3"
  },
  "language_info": {
   "codemirror_mode": {
    "name": "ipython",
    "version": 3
   },
   "file_extension": ".py",
   "mimetype": "text/x-python",
   "name": "python",
   "nbconvert_exporter": "python",
   "pygments_lexer": "ipython3",
   "version": "3.7.1"
  }
 },
 "nbformat": 4,
 "nbformat_minor": 2
}
