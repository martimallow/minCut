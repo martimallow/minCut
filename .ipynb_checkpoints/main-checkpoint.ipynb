{
 "cells": [
  {
   "cell_type": "markdown",
   "metadata": {},
   "source": [
    "# Input \n",
    "A primeira linha da entrada contém dois inteiros separados por espaços, n e m, o número de vértices do\n",
    "grafo e o número de arestas entre eles. Seguem m linhas, cada uma com três inteiros, u i , v i e w i , indicando\n",
    "que existe uma aresta de peso w i entre os vértices v i e w i . Você deve considerar que nesse grafo não há\n",
    "arestas paralelas nem laços."
   ]
  },
  {
   "cell_type": "code",
   "execution_count": 2,
   "metadata": {},
   "outputs": [
    {
     "name": "stdout",
     "output_type": "stream",
     "text": [
      "vertices e arestas: 6 6\n",
      "3 inteiros: u, v, w 1 1 1\n",
      "3 inteiros: u, v, w 1 1 1\n",
      "3 inteiros: u, v, w 1 1 1\n",
      "3 inteiros: u, v, w 1 1 1\n",
      "3 inteiros: u, v, w 1 1 1 \n",
      "3 inteiros: u, v, w 1 1 1\n"
     ]
    }
   ],
   "source": [
    "#4 2 \n",
    "#0 1 1\n",
    "#0 2 1\n",
    "grafo = []\n",
    "grafo = input(\"vertices e arestas: \").split(\" \")\n",
    "n = int(grafo[0]) #numero de vertices\n",
    "m = int(grafo[1]) #numero de arestas\n",
    "\n",
    "arestas = [0] * m\n",
    "\n",
    "for i in range(m):\n",
    "    arestas[i] = input(\"3 inteiros: u, v, w \").split(\" \")"
   ]
  },
  {
   "cell_type": "code",
   "execution_count": 3,
   "metadata": {},
   "outputs": [
    {
     "name": "stdout",
     "output_type": "stream",
     "text": [
      "0\n",
      "0\n",
      "10\n",
      "12\n",
      "0\n",
      "0\n"
     ]
    }
   ],
   "source": [
    "#chegando = coluna\n",
    "#saindo = linha\n",
    "\n",
    "grafo = [[0, 16, 13, 0, 0, 0], \n",
    "         [0, 0, 10, 12, 0, 0], \n",
    "         [0, 4, 0, 0, 14, 0], \n",
    "         [0, 0, 9, 0, 0, 20], \n",
    "         [0, 0, 0, 7, 0, 4], \n",
    "         [0, 0, 0, 0, 0, 0]] \n",
    "\n",
    "residual = [[0, 16, 13, 0, 0, 0], \n",
    "            [0, 0, 10, 12, 0, 0], \n",
    "            [0, 4, 0, 0, 14, 0], \n",
    "            [0, 0, 9, 0, 0, 20], \n",
    "            [0, 0, 0, 7, 0, 4], \n",
    "            [0, 0, 0, 0, 0, 0]] \n",
    "\n",
    "u = 1 \n",
    "\n",
    "for indice, pesos in enumerate(grafo[u]):\n",
    "    print(pesos)"
   ]
  },
  {
   "cell_type": "markdown",
   "metadata": {},
   "source": [
    "\n",
    "# DFS"
   ]
  },
  {
   "cell_type": "code",
   "execution_count": 4,
   "metadata": {},
   "outputs": [
    {
     "name": "stdout",
     "output_type": "stream",
     "text": [
      "Tem\n",
      "[-1, 0, 0, 1, 2, 3]\n"
     ]
    }
   ],
   "source": [
    "s = 0\n",
    "t = 5\n",
    "\n",
    "#Todos os vertices iniciam como não visitados\n",
    "visitados = [False] * n\n",
    "\n",
    "#fila vazia\n",
    "fila = [] \n",
    "\n",
    "#marque o nó fonte como visitado\n",
    "fila.append(s)\n",
    "visitados[s] = True\n",
    "\n",
    "#guarda o caminho encontrado pelo DFS \n",
    "deondevem = [-1] * n \n",
    "\n",
    "#loop DFS\n",
    "while fila:\n",
    "    #sai o primeiro da fila\n",
    "    u = fila.pop(0)\n",
    "    \n",
    "    #encontra todos os vertices adjacentes a u\n",
    "    #se um dos vertices adjacentes ainda nao foi visitado\n",
    "    #marque ele como visitado e adicione na fila\n",
    "    for indice, peso in enumerate(grafo[u]):\n",
    "        if(visitados[indice] == False and peso > 0):\n",
    "            visitados[indice] = True\n",
    "            fila.append(indice)\n",
    "            deondevem[indice] = u\n",
    "if(visitados[t]):\n",
    "    print(\"Tem\")\n",
    "    print(deondevem)\n",
    "else:\n",
    "    print(\"Não tem\")\n",
    "        "
   ]
  },
  {
   "cell_type": "markdown",
   "metadata": {},
   "source": [
    "# Ford Fulkersson"
   ]
  },
  {
   "cell_type": "code",
   "execution_count": 20,
   "metadata": {},
   "outputs": [
    {
     "name": "stdout",
     "output_type": "stream",
     "text": [
      "5 3 inf\n",
      "3 1 20\n",
      "1 0 12\n",
      "0 -1 12\n",
      "0\n"
     ]
    }
   ],
   "source": [
    "#começa com fluxo - \n",
    "fluxo = 0\n",
    "\n",
    "#enquanto houver caminho aumementador no grado residual\n",
    "#while(dfs(residual, u)):\n",
    "\n",
    "#deondevem nos dá um caminho aumentador da fonte ao sorvedouro\n",
    "#vamos procurar a menor restrição desse caminho, esse será o fluxo do caminho ou sua capacidade residual (delta)\n",
    "#começando do sorvedouro\n",
    "chegada = t\n",
    "delta = float(\"Inf\") \n",
    "while(chegada != -1):\n",
    "    saida = deondevem[chegada]\n",
    "    print(chegada, saida, delta)\n",
    "    capacidade = residual[saida][chegada]\n",
    "    if(capacidade < delta):\n",
    "        delta = capacidade\n",
    "    temporaria = saida\n",
    "    chegada = saida \n",
    "    saida = deondevem[chegada]\n",
    "print(delta)\n"
   ]
  },
  {
   "cell_type": "code",
   "execution_count": 7,
   "metadata": {},
   "outputs": [
    {
     "data": {
      "text/plain": [
       "True"
      ]
     },
     "execution_count": 7,
     "metadata": {},
     "output_type": "execute_result"
    }
   ],
   "source": [
    "p = float(\"Inf\") \n",
    "300 < p"
   ]
  }
 ],
 "metadata": {
  "kernelspec": {
   "display_name": "Python 3",
   "language": "python",
   "name": "python3"
  },
  "language_info": {
   "codemirror_mode": {
    "name": "ipython",
    "version": 3
   },
   "file_extension": ".py",
   "mimetype": "text/x-python",
   "name": "python",
   "nbconvert_exporter": "python",
   "pygments_lexer": "ipython3",
   "version": "3.7.1"
  }
 },
 "nbformat": 4,
 "nbformat_minor": 2
}
